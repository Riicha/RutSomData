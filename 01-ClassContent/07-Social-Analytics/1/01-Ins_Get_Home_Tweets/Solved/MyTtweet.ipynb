{
 "cells": [
  {
   "cell_type": "code",
   "execution_count": 1,
   "metadata": {},
   "outputs": [],
   "source": [
    "import tweepy\n",
    "\n"
   ]
  },
  {
   "cell_type": "code",
   "execution_count": 2,
   "metadata": {},
   "outputs": [],
   "source": [
    "access_token = '57237295-K2EPPUBgXZfz83NuA92RxkzETWThD4YW8lt3bhAcW'\n",
    "access_token_secret = '9GD3xt89mMZNCKWmDwQvnaWw3tQjaz0vgz4l4d90Fb7N0'\n",
    "consumer_key = 'b2jDtC9vAdTpnuJDZkNPkwEYF'\n",
    "consumer_secret = 'xEo1L3eRSaE6J7uOIlYP0ohoNp0jikv3LKunjp9arE0YWn5tVo'"
   ]
  },
  {
   "cell_type": "code",
   "execution_count": 3,
   "metadata": {},
   "outputs": [
    {
     "name": "stdout",
     "output_type": "stream",
     "text": [
      "Kolkata: Biker dies in mishap, pillion rider seriously injured\n",
      "\n",
      "https://t.co/IxNW9jH5sD\n",
      "Colombia, a team many thought could win the Group H, will look to rebound after losing its opener to Japan https://t.co/F28DqKpOWx\n",
      "You may be eating a lot of salt and not even know it, here’s why.\n",
      "https://t.co/zKwIInm7a3\n",
      "Locals, activists and environmentalists protested on Sunday against the government's order to fell over 14,000 tree… https://t.co/WkIMQdYF1x\n",
      "FIR against former Karnataka CM Siddaramaiah in land denotification case\n",
      "\n",
      "https://t.co/CBb4cSkeMh\n",
      "Preliminary results in Turkey's snap elections show President Recep Tayyip Erdogan in the lead over his nearest riv… https://t.co/J2lq4o2Kql\n",
      "RT @IExpressSports: #ExpressWorldCup #ENGvPAN \n",
      "\n",
      "England beat Panama 6-1 to record their biggest win in #WorldCup history\n",
      "\n",
      "STATS:\n",
      "https://t.…\n",
      "RT @terri_rupar: When you watch a Trump rally on TV, you hear him speaking, mostly. When you're at a Trump rally, you hear that plus the hu…\n",
      "It’s 2018, and Hank Green still believes the Internet can make the world better https://t.co/PwO5nDY4fj\n",
      "RT @News18Sports: Japan vs Senegal, Live Score, FIFA World Cup 2018: Honda Brings Japan Back to Level Terms Against Senegal\n",
      "\n",
      "#WorldCup #JPN…\n",
      "RT @News18Sports: Japan vs Senegal, Live Score, FIFA World Cup 2018: Wague Gives Senegal Lead Against Japan\n",
      "\n",
      "#WorldCup #JPNSEN \n",
      "\n",
      "https://t.…\n",
      "“Today, I find magazines want to just make a statement. It is a start, but how much change will it bring in?”  https://t.co/CJMAB7cz7T\n",
      "Education analysts and student advocates warn of an impending crisis from one-time tax bills individuals may not be… https://t.co/AYDuZcvwTU\n",
      "1 killed, 1 injured when 2 SUVs collide on Interstate 80 https://t.co/7sSctTlanw https://t.co/FU6uWDQ328\n",
      "RT @IExpressSports: #ENGvAUS \n",
      "\n",
      "Thats it! England beat Australia by 1 wicket to complete a whitewash.\n",
      "\n",
      "Jos Buttler is the architect with an…\n",
      "RT @TheHinduSports: FIFA 2018 | Live score and stats: Japan equalises again in the second half https://t.co/OxQ9PqmwBM #JPN #SEN\n",
      "RT @IExpressSports: #ExpressWorldCup #WorldCup #JPNSEN \n",
      "\n",
      "GOALLLLL! Japan's most recognisable player Honda curls a left-footed shot inside t…\n",
      "RT @HTSportsNews: #WorldCup #JPNSEN | GOAAAAL! Super-sub Keisuke Honda equalises for #JPN vs #SEN \n",
      "\n",
      "https://t.co/0NwMG5SOL1\n",
      "Almost 350 migrants are stranded on two boats in the Mediterranean, including a Danish cargo ship, as a standoff be… https://t.co/nAaKwSNL1c\n",
      "Donald Trump's dog-whistle on immigration may sustain his presidency; it will not stop how America is changing https://t.co/zd451OTMR6\n"
     ]
    }
   ],
   "source": [
    "auth = tweepy.OAuthHandler(consumer_key, consumer_secret)\n",
    "auth.set_access_token(access_token, access_token_secret)\n",
    "\n",
    "api = tweepy.API(auth)\n",
    "\n",
    "public_tweets = api.home_timeline()\n",
    "for tweet in public_tweets:\n",
    "    print(tweet.text)"
   ]
  },
  {
   "cell_type": "code",
   "execution_count": null,
   "metadata": {},
   "outputs": [],
   "source": []
  },
  {
   "cell_type": "code",
   "execution_count": null,
   "metadata": {},
   "outputs": [],
   "source": []
  }
 ],
 "metadata": {
  "kernelspec": {
   "display_name": "Python 3",
   "language": "python",
   "name": "python3"
  },
  "language_info": {
   "codemirror_mode": {
    "name": "ipython",
    "version": 3
   },
   "file_extension": ".py",
   "mimetype": "text/x-python",
   "name": "python",
   "nbconvert_exporter": "python",
   "pygments_lexer": "ipython3",
   "version": "3.6.5"
  }
 },
 "nbformat": 4,
 "nbformat_minor": 2
}
