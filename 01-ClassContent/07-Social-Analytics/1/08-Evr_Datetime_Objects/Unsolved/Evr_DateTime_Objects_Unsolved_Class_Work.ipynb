{
 "cells": [
  {
   "cell_type": "code",
   "execution_count": 1,
   "metadata": {},
   "outputs": [],
   "source": [
    "# New Dependency\n",
    "from datetime import datetime"
   ]
  },
  {
   "cell_type": "code",
   "execution_count": 2,
   "metadata": {},
   "outputs": [],
   "source": [
    "# Dependencies\n",
    "import tweepy\n",
    "import json\n",
    "import numpy as np\n",
    "import matplotlib.pyplot as plt\n",
    "# from config import consumer_key, consumer_secret, access_token, access_token_secret\n",
    "\n",
    "consumer_key = 'b2jDtC9vAdTpnuJDZkNPkwEYF'\n",
    "consumer_secret = 'xEo1L3eRSaE6J7uOIlYP0ohoNp0jikv3LKunjp9arE0YWn5tVo'\n",
    "access_token = '57237295-K2EPPUBgXZfz83NuA92RxkzETWThD4YW8lt3bhAcW'\n",
    "access_token_secret = '9GD3xt89mMZNCKWmDwQvnaWw3tQjaz0vgz4l4d90Fb7N0'\n",
    "\n",
    "# Setup Tweepy API Authentication\n",
    "auth = tweepy.OAuthHandler(consumer_key, consumer_secret)\n",
    "auth.set_access_token(access_token, access_token_secret)\n",
    "api = tweepy.API(auth, parser=tweepy.parsers.JSONParser())"
   ]
  },
  {
   "cell_type": "code",
   "execution_count": 8,
   "metadata": {},
   "outputs": [
    {
     "name": "stdout",
     "output_type": "stream",
     "text": [
      "Thu Jun 21 23:20:31 +0000 2018\n",
      "Thu Jun 21 22:56:39 +0000 2018\n",
      "Thu Jun 21 22:32:14 +0000 2018\n",
      "Thu Jun 21 21:33:42 +0000 2018\n",
      "Thu Jun 21 21:05:10 +0000 2018\n",
      "Thu Jun 21 20:35:07 +0000 2018\n",
      "Thu Jun 21 20:20:09 +0000 2018\n",
      "Thu Jun 21 20:05:10 +0000 2018\n",
      "Thu Jun 21 19:50:09 +0000 2018\n",
      "Thu Jun 21 19:46:07 +0000 2018\n",
      "Thu Jun 21 19:42:13 +0000 2018\n",
      "Thu Jun 21 19:35:00 +0000 2018\n",
      "Thu Jun 21 19:26:54 +0000 2018\n",
      "Thu Jun 21 19:05:12 +0000 2018\n",
      "Thu Jun 21 18:50:08 +0000 2018\n",
      "Thu Jun 21 18:35:29 +0000 2018\n",
      "Thu Jun 21 18:20:10 +0000 2018\n",
      "Thu Jun 21 18:05:11 +0000 2018\n",
      "Thu Jun 21 17:50:09 +0000 2018\n",
      "Thu Jun 21 17:36:45 +0000 2018\n"
     ]
    }
   ],
   "source": [
    "# Target User\n",
    "target_user = 'latimes'\n",
    "\n",
    "# Get all tweets from home feed\n",
    "public_tweets = api.user_timeline(target_user)\n",
    "\n",
    "# A list to hold tweet timestamps\n",
    "tweet_times = []\n",
    "\n",
    "# Loop through all tweets\n",
    "for tweet in public_tweets:\n",
    "    raw_time = tweet[\"created_at\"]\n",
    "    print(raw_time)\n",
    "    tweet_times.append(raw_time)\n"
   ]
  },
  {
   "cell_type": "code",
   "execution_count": 11,
   "metadata": {},
   "outputs": [
    {
     "ename": "ValueError",
     "evalue": "'%' is a bad directive in format 'a% %b %d %H:%M:%s %z %y'",
     "output_type": "error",
     "traceback": [
      "\u001b[1;31m---------------------------------------------------------------------------\u001b[0m",
      "\u001b[1;31mValueError\u001b[0m                                Traceback (most recent call last)",
      "\u001b[1;32m<ipython-input-11-fac9dd9bba9b>\u001b[0m in \u001b[0;36m<module>\u001b[1;34m()\u001b[0m\n\u001b[0;32m      7\u001b[0m     \u001b[1;31m# http://strftime.org/\u001b[0m\u001b[1;33m\u001b[0m\u001b[1;33m\u001b[0m\u001b[0m\n\u001b[0;32m      8\u001b[0m     \u001b[1;31m# YOUR CODE HERE\u001b[0m\u001b[1;33m\u001b[0m\u001b[1;33m\u001b[0m\u001b[0m\n\u001b[1;32m----> 9\u001b[1;33m     \u001b[0mconverted_time\u001b[0m \u001b[1;33m=\u001b[0m \u001b[0mdatetime\u001b[0m\u001b[1;33m.\u001b[0m\u001b[0mstrptime\u001b[0m\u001b[1;33m(\u001b[0m\u001b[0mraw_time\u001b[0m\u001b[1;33m,\u001b[0m \u001b[1;34m'a% %b %d %H:%M:%s %z %y'\u001b[0m\u001b[1;33m)\u001b[0m\u001b[1;33m\u001b[0m\u001b[0m\n\u001b[0m\u001b[0;32m     10\u001b[0m     \u001b[0mconverted_timestamps\u001b[0m\u001b[1;33m.\u001b[0m\u001b[0mappend\u001b[0m\u001b[1;33m(\u001b[0m\u001b[0mconverted_time\u001b[0m\u001b[1;33m)\u001b[0m\u001b[1;33m\u001b[0m\u001b[0m\n",
      "\u001b[1;32m~\\AppData\\Local\\conda\\conda\\envs\\pythonData\\lib\\_strptime.py\u001b[0m in \u001b[0;36m_strptime_datetime\u001b[1;34m(cls, data_string, format)\u001b[0m\n\u001b[0;32m    563\u001b[0m     \"\"\"Return a class cls instance based on the input string and the\n\u001b[0;32m    564\u001b[0m     format string.\"\"\"\n\u001b[1;32m--> 565\u001b[1;33m     \u001b[0mtt\u001b[0m\u001b[1;33m,\u001b[0m \u001b[0mfraction\u001b[0m \u001b[1;33m=\u001b[0m \u001b[0m_strptime\u001b[0m\u001b[1;33m(\u001b[0m\u001b[0mdata_string\u001b[0m\u001b[1;33m,\u001b[0m \u001b[0mformat\u001b[0m\u001b[1;33m)\u001b[0m\u001b[1;33m\u001b[0m\u001b[0m\n\u001b[0m\u001b[0;32m    566\u001b[0m     \u001b[0mtzname\u001b[0m\u001b[1;33m,\u001b[0m \u001b[0mgmtoff\u001b[0m \u001b[1;33m=\u001b[0m \u001b[0mtt\u001b[0m\u001b[1;33m[\u001b[0m\u001b[1;33m-\u001b[0m\u001b[1;36m2\u001b[0m\u001b[1;33m:\u001b[0m\u001b[1;33m]\u001b[0m\u001b[1;33m\u001b[0m\u001b[0m\n\u001b[0;32m    567\u001b[0m     \u001b[0margs\u001b[0m \u001b[1;33m=\u001b[0m \u001b[0mtt\u001b[0m\u001b[1;33m[\u001b[0m\u001b[1;33m:\u001b[0m\u001b[1;36m6\u001b[0m\u001b[1;33m]\u001b[0m \u001b[1;33m+\u001b[0m \u001b[1;33m(\u001b[0m\u001b[0mfraction\u001b[0m\u001b[1;33m,\u001b[0m\u001b[1;33m)\u001b[0m\u001b[1;33m\u001b[0m\u001b[0m\n",
      "\u001b[1;32m~\\AppData\\Local\\conda\\conda\\envs\\pythonData\\lib\\_strptime.py\u001b[0m in \u001b[0;36m_strptime\u001b[1;34m(data_string, format)\u001b[0m\n\u001b[0;32m    352\u001b[0m                 \u001b[1;32mdel\u001b[0m \u001b[0merr\u001b[0m\u001b[1;33m\u001b[0m\u001b[0m\n\u001b[0;32m    353\u001b[0m                 raise ValueError(\"'%s' is a bad directive in format '%s'\" %\n\u001b[1;32m--> 354\u001b[1;33m                                     (bad_directive, format)) from None\n\u001b[0m\u001b[0;32m    355\u001b[0m             \u001b[1;31m# IndexError only occurs when the format string is \"%\"\u001b[0m\u001b[1;33m\u001b[0m\u001b[1;33m\u001b[0m\u001b[0m\n\u001b[0;32m    356\u001b[0m             \u001b[1;32mexcept\u001b[0m \u001b[0mIndexError\u001b[0m\u001b[1;33m:\u001b[0m\u001b[1;33m\u001b[0m\u001b[0m\n",
      "\u001b[1;31mValueError\u001b[0m: '%' is a bad directive in format 'a% %b %d %H:%M:%s %z %y'"
     ]
    }
   ],
   "source": [
    "# Convert tweet timestamps to datetime objects that can be manipulated by\n",
    "# Python\n",
    "converted_timestamps = []\n",
    "\n",
    "for raw_time in tweet_times:\n",
    "    # https://docs.python.org/3/library/datetime.html#strftime-and-strptime-behavior\n",
    "    # http://strftime.org/\n",
    "    # YOUR CODE HERE\n",
    "# datetime_object = datetime.strptime('Jun 1 2005  1:33PM', '%b %d %Y %I:%M%p')\n",
    "    converted_time = datetime.strptime(raw_time, 'a% %b %d %H:%M:%s %z %y')\n",
    "    converted_timestamps.append(converted_time)"
   ]
  },
  {
   "cell_type": "code",
   "execution_count": null,
   "metadata": {
    "collapsed": true
   },
   "outputs": [],
   "source": [
    "print(tweet_times[0])\n",
    "print(tweet_times[1])"
   ]
  },
  {
   "cell_type": "code",
   "execution_count": null,
   "metadata": {
    "collapsed": true
   },
   "outputs": [],
   "source": [
    "print(converted_timestamps[0])\n",
    "print(converted_timestamps[1])"
   ]
  },
  {
   "cell_type": "code",
   "execution_count": null,
   "metadata": {
    "collapsed": true
   },
   "outputs": [],
   "source": [
    "# Calculate the time difference in seconds\n",
    "# YOUR CODE HERE\n",
    "diff = converted_timestamps[0] - converted_timestamps[1]\n",
    "print('time Diff:', diff)\n",
    "print('seconds: {}'.format(diff.seconds))\n"
   ]
  },
  {
   "cell_type": "code",
   "execution_count": null,
   "metadata": {
    "collapsed": true
   },
   "outputs": [],
   "source": [
    "converted_length = len(converted_timestamps)\n",
    "print(f\"length of converted timestamps list: {converted_length}\")\n",
    "\n",
    "time_diffs = []\n",
    "\n",
    "for x in range(converted_length - 1):\n",
    "    # YOUR CODE HERE\n",
    "    time_diff = time_diff.seconds / 3600\n",
    "    time_diff.append(time_diff)\n",
    "\n",
    "print(f\"Avg. Hours Between Tweets: {np.mean(time_diffs)}\")"
   ]
  }
 ],
 "metadata": {
  "kernelspec": {
   "display_name": "Python 3",
   "language": "python",
   "name": "python3"
  },
  "language_info": {
   "codemirror_mode": {
    "name": "ipython",
    "version": 3
   },
   "file_extension": ".py",
   "mimetype": "text/x-python",
   "name": "python",
   "nbconvert_exporter": "python",
   "pygments_lexer": "ipython3",
   "version": "3.6.5"
  },
  "varInspector": {
   "cols": {
    "lenName": 16,
    "lenType": 16,
    "lenVar": 40
   },
   "kernels_config": {
    "python": {
     "delete_cmd_postfix": "",
     "delete_cmd_prefix": "del ",
     "library": "var_list.py",
     "varRefreshCmd": "print(var_dic_list())"
    },
    "r": {
     "delete_cmd_postfix": ") ",
     "delete_cmd_prefix": "rm(",
     "library": "var_list.r",
     "varRefreshCmd": "cat(var_dic_list()) "
    }
   },
   "types_to_exclude": [
    "module",
    "function",
    "builtin_function_or_method",
    "instance",
    "_Feature"
   ],
   "window_display": false
  }
 },
 "nbformat": 4,
 "nbformat_minor": 2
}
